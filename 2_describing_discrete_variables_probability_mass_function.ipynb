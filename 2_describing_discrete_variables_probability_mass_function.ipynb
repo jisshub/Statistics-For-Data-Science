{
 "cells": [
  {
   "cell_type": "code",
   "execution_count": 1,
   "id": "e9bee11c",
   "metadata": {},
   "outputs": [],
   "source": [
    "import numpy as np\n",
    "import matplotlib.pyplot as plt"
   ]
  },
  {
   "cell_type": "code",
   "execution_count": 2,
   "id": "3d5cec33",
   "metadata": {},
   "outputs": [
    {
     "data": {
      "text/plain": [
       "array([2, 1, 5, 3, 1, 6, 3, 1, 4, 5, 5, 3, 6, 6, 3, 6, 3, 6, 6, 3, 2, 3,\n",
       "       1, 2, 3, 1, 4, 2, 6, 2, 2, 3, 1, 6, 6, 3, 5, 3, 6, 3, 3, 1, 4, 2,\n",
       "       3, 1, 1, 4, 3, 5])"
      ]
     },
     "execution_count": 2,
     "metadata": {},
     "output_type": "execute_result"
    }
   ],
   "source": [
    "# Consider dice roll random experiment\n",
    "# Roll the die for 50 times\n",
    "die_rolls_50 = np.random.randint(1,7,50)\n",
    "die_rolls_50"
   ]
  },
  {
   "cell_type": "code",
   "execution_count": 3,
   "id": "fab2f138",
   "metadata": {
    "scrolled": true
   },
   "outputs": [
    {
     "name": "stdout",
     "output_type": "stream",
     "text": [
      "[1 2 3 4 5 6] [ 9  7 15  4  5 10]\n"
     ]
    }
   ],
   "source": [
    "# Get frequency of each values\n",
    "values, frequencies = np.unique(die_rolls_50, return_counts=True)\n",
    "print(values, frequencies)"
   ]
  },
  {
   "cell_type": "code",
   "execution_count": 4,
   "id": "48510a26",
   "metadata": {},
   "outputs": [],
   "source": [
    "# 1 counts 9 times\n",
    "# 2 counts 14 times\n",
    "# ...."
   ]
  },
  {
   "cell_type": "code",
   "execution_count": 5,
   "id": "7c4e3f1c",
   "metadata": {},
   "outputs": [
    {
     "data": {
      "text/plain": [
       "<BarContainer object of 6 artists>"
      ]
     },
     "execution_count": 5,
     "metadata": {},
     "output_type": "execute_result"
    },
    {
     "data": {
      "image/png": "[encoded data removed]",
      "text/plain": [
       "<Figure size 432x288 with 1 Axes>"
      ]
     },
     "metadata": {
      "needs_background": "light"
     },
     "output_type": "display_data"
    }
   ],
   "source": [
    "# plot values and frequencies in bar chart\n",
    "plt.bar(values, frequencies/len(die_rolls_50))\n",
    "\n",
    "# plt.bar(sample space,  count_of_element/50)"
   ]
  },
  {
   "cell_type": "markdown",
   "id": "971615d2",
   "metadata": {},
   "source": [
    "In above case, when we roll the die for 50 time, probabilities of each are really different."
   ]
  },
  {
   "cell_type": "code",
   "execution_count": 6,
   "id": "5a73b9ed",
   "metadata": {},
   "outputs": [
    {
     "data": {
      "text/plain": [
       "array([3, 6, 6, ..., 1, 5, 2])"
      ]
     },
     "execution_count": 6,
     "metadata": {},
     "output_type": "execute_result"
    }
   ],
   "source": [
    "# Next consider die rolled for 10k times\n",
    "die_rolls_10k = np.random.randint(1,7,10000)\n",
    "die_rolls_10k"
   ]
  },
  {
   "cell_type": "code",
   "execution_count": 7,
   "id": "f7457ec7",
   "metadata": {},
   "outputs": [
    {
     "name": "stdout",
     "output_type": "stream",
     "text": [
      "[1 2 3 4 5 6] [1664 1662 1715 1679 1622 1658]\n"
     ]
    }
   ],
   "source": [
    "# calculate freuencies \n",
    "values, frequencies = np.unique(die_rolls_10k, return_counts=True)\n",
    "print(values, frequencies)"
   ]
  },
  {
   "cell_type": "code",
   "execution_count": 8,
   "id": "d1533776",
   "metadata": {},
   "outputs": [],
   "source": [
    "# here 1 counted for 1661 time\n",
    "#      2 couned for 1709 times\n",
    "# ...."
   ]
  },
  {
   "cell_type": "code",
   "execution_count": 9,
   "id": "dadbe327",
   "metadata": {},
   "outputs": [
    {
     "data": {
      "text/plain": [
       "<BarContainer object of 6 artists>"
      ]
     },
     "execution_count": 9,
     "metadata": {},
     "output_type": "execute_result"
    },
    {
     "data": {
      "image/png": "[encoded data removed]",
      "text/plain": [
       "<Figure size 432x288 with 1 Axes>"
      ]
     },
     "metadata": {
      "needs_background": "light"
     },
     "output_type": "display_data"
    }
   ],
   "source": [
    "plt.bar(values, frequencies/len(die_rolls_10k))\n",
    "\n",
    "# plt.bar(sample space,  count_of_element/10000)"
   ]
  },
  {
   "cell_type": "markdown",
   "id": "2dd258af",
   "metadata": {},
   "source": [
    "Here, when we run the die for 10000 times probabilities are looking similar.\n",
    "\n",
    "Ie. frequencies of all 6 elements are near."
   ]
  },
  {
   "cell_type": "markdown",
   "id": "6985fa3f",
   "metadata": {},
   "source": [
    "**Conclusion**:\n",
    "\n",
    "    If i repeat the random experiment enough number of times, probability of getting items becomes equal.\n",
    "     \n",
    "     That is how we can use probaility mass functrion to study discrete variables."
   ]
  },
  {
   "cell_type": "code",
   "execution_count": null,
   "id": "261044b9",
   "metadata": {},
   "outputs": [],
   "source": []
  }
 ],
 "metadata": {
  "kernelspec": {
   "display_name": "Python 3",
   "language": "python",
   "name": "python3"
  },
  "language_info": {
   "codemirror_mode": {
    "name": "ipython",
    "version": 3
   },
   "file_extension": ".py",
   "mimetype": "text/x-python",
   "name": "python",
   "nbconvert_exporter": "python",
   "pygments_lexer": "ipython3",
   "version": "3.8.8"
  }
 },
 "nbformat": 4,
 "nbformat_minor": 5
}
