{
 "cells": [
  {
   "cell_type": "markdown",
   "id": "e9bda55d",
   "metadata": {},
   "source": [
    "## Chi-Square Test\n",
    "\n",
    "This test is applied when you have 2 categorical features/variables from a single population.\n",
    "It is used to determine whether there is any significant association b/w 2 feature.\n",
    "\n",
    "https://www.youtube.com/watch?v=w5iKu1IrTJQ&list=PLE6KYAK0e5K0QfvPQ_SoMwjfKv-V1uaPt&index=4"
   ]
  },
  {
   "cell_type": "code",
   "execution_count": 75,
   "id": "6aa0ffaa",
   "metadata": {},
   "outputs": [],
   "source": [
    "import scipy.stats as stats"
   ]
  },
  {
   "cell_type": "code",
   "execution_count": 76,
   "id": "c48b605c",
   "metadata": {},
   "outputs": [],
   "source": [
    "import pandas as pd\n",
    "import matplotlib.pyplot as plt\n",
    "import seaborn as sns"
   ]
  },
  {
   "cell_type": "code",
   "execution_count": 77,
   "id": "7be94a87",
   "metadata": {},
   "outputs": [
    {
     "data": {
      "text/html": [
       "<div>\n",
       "<style scoped>\n",
       "    .dataframe tbody tr th:only-of-type {\n",
       "        vertical-align: middle;\n",
       "    }\n",
       "\n",
       "    .dataframe tbody tr th {\n",
       "        vertical-align: top;\n",
       "    }\n",
       "\n",
       "    .dataframe thead th {\n",
       "        text-align: right;\n",
       "    }\n",
       "</style>\n",
       "<table border=\"1\" class=\"dataframe\">\n",
       "  <thead>\n",
       "    <tr style=\"text-align: right;\">\n",
       "      <th></th>\n",
       "      <th>total_bill</th>\n",
       "      <th>tip</th>\n",
       "      <th>sex</th>\n",
       "      <th>smoker</th>\n",
       "      <th>day</th>\n",
       "      <th>time</th>\n",
       "      <th>size</th>\n",
       "    </tr>\n",
       "  </thead>\n",
       "  <tbody>\n",
       "    <tr>\n",
       "      <th>0</th>\n",
       "      <td>16.99</td>\n",
       "      <td>1.01</td>\n",
       "      <td>Female</td>\n",
       "      <td>No</td>\n",
       "      <td>Sun</td>\n",
       "      <td>Dinner</td>\n",
       "      <td>2</td>\n",
       "    </tr>\n",
       "    <tr>\n",
       "      <th>1</th>\n",
       "      <td>10.34</td>\n",
       "      <td>1.66</td>\n",
       "      <td>Male</td>\n",
       "      <td>No</td>\n",
       "      <td>Sun</td>\n",
       "      <td>Dinner</td>\n",
       "      <td>3</td>\n",
       "    </tr>\n",
       "    <tr>\n",
       "      <th>2</th>\n",
       "      <td>21.01</td>\n",
       "      <td>3.50</td>\n",
       "      <td>Male</td>\n",
       "      <td>No</td>\n",
       "      <td>Sun</td>\n",
       "      <td>Dinner</td>\n",
       "      <td>3</td>\n",
       "    </tr>\n",
       "    <tr>\n",
       "      <th>3</th>\n",
       "      <td>23.68</td>\n",
       "      <td>3.31</td>\n",
       "      <td>Male</td>\n",
       "      <td>No</td>\n",
       "      <td>Sun</td>\n",
       "      <td>Dinner</td>\n",
       "      <td>2</td>\n",
       "    </tr>\n",
       "    <tr>\n",
       "      <th>4</th>\n",
       "      <td>24.59</td>\n",
       "      <td>3.61</td>\n",
       "      <td>Female</td>\n",
       "      <td>No</td>\n",
       "      <td>Sun</td>\n",
       "      <td>Dinner</td>\n",
       "      <td>4</td>\n",
       "    </tr>\n",
       "    <tr>\n",
       "      <th>...</th>\n",
       "      <td>...</td>\n",
       "      <td>...</td>\n",
       "      <td>...</td>\n",
       "      <td>...</td>\n",
       "      <td>...</td>\n",
       "      <td>...</td>\n",
       "      <td>...</td>\n",
       "    </tr>\n",
       "    <tr>\n",
       "      <th>239</th>\n",
       "      <td>29.03</td>\n",
       "      <td>5.92</td>\n",
       "      <td>Male</td>\n",
       "      <td>No</td>\n",
       "      <td>Sat</td>\n",
       "      <td>Dinner</td>\n",
       "      <td>3</td>\n",
       "    </tr>\n",
       "    <tr>\n",
       "      <th>240</th>\n",
       "      <td>27.18</td>\n",
       "      <td>2.00</td>\n",
       "      <td>Female</td>\n",
       "      <td>Yes</td>\n",
       "      <td>Sat</td>\n",
       "      <td>Dinner</td>\n",
       "      <td>2</td>\n",
       "    </tr>\n",
       "    <tr>\n",
       "      <th>241</th>\n",
       "      <td>22.67</td>\n",
       "      <td>2.00</td>\n",
       "      <td>Male</td>\n",
       "      <td>Yes</td>\n",
       "      <td>Sat</td>\n",
       "      <td>Dinner</td>\n",
       "      <td>2</td>\n",
       "    </tr>\n",
       "    <tr>\n",
       "      <th>242</th>\n",
       "      <td>17.82</td>\n",
       "      <td>1.75</td>\n",
       "      <td>Male</td>\n",
       "      <td>No</td>\n",
       "      <td>Sat</td>\n",
       "      <td>Dinner</td>\n",
       "      <td>2</td>\n",
       "    </tr>\n",
       "    <tr>\n",
       "      <th>243</th>\n",
       "      <td>18.78</td>\n",
       "      <td>3.00</td>\n",
       "      <td>Female</td>\n",
       "      <td>No</td>\n",
       "      <td>Thur</td>\n",
       "      <td>Dinner</td>\n",
       "      <td>2</td>\n",
       "    </tr>\n",
       "  </tbody>\n",
       "</table>\n",
       "<p>244 rows × 7 columns</p>\n",
       "</div>"
      ],
      "text/plain": [
       "     total_bill   tip     sex smoker   day    time  size\n",
       "0         16.99  1.01  Female     No   Sun  Dinner     2\n",
       "1         10.34  1.66    Male     No   Sun  Dinner     3\n",
       "2         21.01  3.50    Male     No   Sun  Dinner     3\n",
       "3         23.68  3.31    Male     No   Sun  Dinner     2\n",
       "4         24.59  3.61  Female     No   Sun  Dinner     4\n",
       "..          ...   ...     ...    ...   ...     ...   ...\n",
       "239       29.03  5.92    Male     No   Sat  Dinner     3\n",
       "240       27.18  2.00  Female    Yes   Sat  Dinner     2\n",
       "241       22.67  2.00    Male    Yes   Sat  Dinner     2\n",
       "242       17.82  1.75    Male     No   Sat  Dinner     2\n",
       "243       18.78  3.00  Female     No  Thur  Dinner     2\n",
       "\n",
       "[244 rows x 7 columns]"
      ]
     },
     "execution_count": 77,
     "metadata": {},
     "output_type": "execute_result"
    }
   ],
   "source": [
    "df = sns.load_dataset('tips')\n",
    "df"
   ]
  },
  {
   "cell_type": "markdown",
   "id": "1b1dac12",
   "metadata": {},
   "source": [
    "#### Task is to determine whether any association exist b/w smoker and sex feature.\n",
    "\n",
    "Smoker, Sex -> Catgorical Feature"
   ]
  },
  {
   "cell_type": "code",
   "execution_count": 78,
   "id": "dcdc67c4",
   "metadata": {},
   "outputs": [],
   "source": [
    "# Step 1: Pick the 2 categorical features \n",
    "# Step 2: Apply crosstab()"
   ]
  },
  {
   "cell_type": "code",
   "execution_count": 79,
   "id": "dad4ff9b",
   "metadata": {},
   "outputs": [
    {
     "data": {
      "text/html": [
       "<div>\n",
       "<style scoped>\n",
       "    .dataframe tbody tr th:only-of-type {\n",
       "        vertical-align: middle;\n",
       "    }\n",
       "\n",
       "    .dataframe tbody tr th {\n",
       "        vertical-align: top;\n",
       "    }\n",
       "\n",
       "    .dataframe thead th {\n",
       "        text-align: right;\n",
       "    }\n",
       "</style>\n",
       "<table border=\"1\" class=\"dataframe\">\n",
       "  <thead>\n",
       "    <tr style=\"text-align: right;\">\n",
       "      <th></th>\n",
       "      <th>smoker</th>\n",
       "      <th>sex</th>\n",
       "    </tr>\n",
       "  </thead>\n",
       "  <tbody>\n",
       "    <tr>\n",
       "      <th>0</th>\n",
       "      <td>No</td>\n",
       "      <td>Female</td>\n",
       "    </tr>\n",
       "    <tr>\n",
       "      <th>1</th>\n",
       "      <td>No</td>\n",
       "      <td>Male</td>\n",
       "    </tr>\n",
       "    <tr>\n",
       "      <th>2</th>\n",
       "      <td>No</td>\n",
       "      <td>Male</td>\n",
       "    </tr>\n",
       "    <tr>\n",
       "      <th>3</th>\n",
       "      <td>No</td>\n",
       "      <td>Male</td>\n",
       "    </tr>\n",
       "    <tr>\n",
       "      <th>4</th>\n",
       "      <td>No</td>\n",
       "      <td>Female</td>\n",
       "    </tr>\n",
       "    <tr>\n",
       "      <th>...</th>\n",
       "      <td>...</td>\n",
       "      <td>...</td>\n",
       "    </tr>\n",
       "    <tr>\n",
       "      <th>239</th>\n",
       "      <td>No</td>\n",
       "      <td>Male</td>\n",
       "    </tr>\n",
       "    <tr>\n",
       "      <th>240</th>\n",
       "      <td>Yes</td>\n",
       "      <td>Female</td>\n",
       "    </tr>\n",
       "    <tr>\n",
       "      <th>241</th>\n",
       "      <td>Yes</td>\n",
       "      <td>Male</td>\n",
       "    </tr>\n",
       "    <tr>\n",
       "      <th>242</th>\n",
       "      <td>No</td>\n",
       "      <td>Male</td>\n",
       "    </tr>\n",
       "    <tr>\n",
       "      <th>243</th>\n",
       "      <td>No</td>\n",
       "      <td>Female</td>\n",
       "    </tr>\n",
       "  </tbody>\n",
       "</table>\n",
       "<p>244 rows × 2 columns</p>\n",
       "</div>"
      ],
      "text/plain": [
       "    smoker     sex\n",
       "0       No  Female\n",
       "1       No    Male\n",
       "2       No    Male\n",
       "3       No    Male\n",
       "4       No  Female\n",
       "..     ...     ...\n",
       "239     No    Male\n",
       "240    Yes  Female\n",
       "241    Yes    Male\n",
       "242     No    Male\n",
       "243     No  Female\n",
       "\n",
       "[244 rows x 2 columns]"
      ]
     },
     "execution_count": 79,
     "metadata": {},
     "output_type": "execute_result"
    }
   ],
   "source": [
    "df[['smoker', 'sex']]"
   ]
  },
  {
   "cell_type": "markdown",
   "id": "66d903e3",
   "metadata": {},
   "source": [
    "**pd.crosstab()**\n",
    "\n",
    "Compute a simple cross tabulation of two (or more) factors. By default computes a frequency table of the factors unless an array of values and an aggregation function are passed."
   ]
  },
  {
   "cell_type": "code",
   "execution_count": 80,
   "id": "bf0e655b",
   "metadata": {},
   "outputs": [
    {
     "data": {
      "text/html": [
       "<div>\n",
       "<style scoped>\n",
       "    .dataframe tbody tr th:only-of-type {\n",
       "        vertical-align: middle;\n",
       "    }\n",
       "\n",
       "    .dataframe tbody tr th {\n",
       "        vertical-align: top;\n",
       "    }\n",
       "\n",
       "    .dataframe thead th {\n",
       "        text-align: right;\n",
       "    }\n",
       "</style>\n",
       "<table border=\"1\" class=\"dataframe\">\n",
       "  <thead>\n",
       "    <tr style=\"text-align: right;\">\n",
       "      <th>smoker</th>\n",
       "      <th>Yes</th>\n",
       "      <th>No</th>\n",
       "    </tr>\n",
       "    <tr>\n",
       "      <th>sex</th>\n",
       "      <th></th>\n",
       "      <th></th>\n",
       "    </tr>\n",
       "  </thead>\n",
       "  <tbody>\n",
       "    <tr>\n",
       "      <th>Male</th>\n",
       "      <td>60</td>\n",
       "      <td>97</td>\n",
       "    </tr>\n",
       "    <tr>\n",
       "      <th>Female</th>\n",
       "      <td>33</td>\n",
       "      <td>54</td>\n",
       "    </tr>\n",
       "  </tbody>\n",
       "</table>\n",
       "</div>"
      ],
      "text/plain": [
       "smoker  Yes  No\n",
       "sex            \n",
       "Male     60  97\n",
       "Female   33  54"
      ]
     },
     "execution_count": 80,
     "metadata": {},
     "output_type": "execute_result"
    }
   ],
   "source": [
    "df_freq_table = pd.crosstab(df['sex'], df['smoker'])\n",
    "df_freq_table"
   ]
  },
  {
   "cell_type": "markdown",
   "id": "1f450716",
   "metadata": {},
   "source": [
    "Means we got a frequency table of two feature smoker and sex.\n",
    "\n",
    "sex is the index, smoker is the columns.\n",
    "\n",
    "60 Male does smoking, 97 Male don't smoke.\n",
    "\n",
    "33 Female does smoking, 54 Female don't smoke."
   ]
  },
  {
   "cell_type": "code",
   "execution_count": 81,
   "id": "38ab1fff",
   "metadata": {},
   "outputs": [],
   "source": [
    "# Step 3: Show observed values "
   ]
  },
  {
   "cell_type": "code",
   "execution_count": 82,
   "id": "14ec70a4",
   "metadata": {},
   "outputs": [
    {
     "name": "stdout",
     "output_type": "stream",
     "text": [
      "Observed values: \n",
      " [[60 97]\n",
      " [33 54]]\n",
      "<class 'numpy.ndarray'>\n"
     ]
    }
   ],
   "source": [
    "observed_values = df_freq_table.values\n",
    "print(\"Observed values: \\n\", observed_values)\n",
    "print(type(observed_values))"
   ]
  },
  {
   "cell_type": "code",
   "execution_count": 83,
   "id": "e7d9befa",
   "metadata": {},
   "outputs": [],
   "source": [
    "# Step 4: Apply chi2-contingency method to our frequency table\n",
    "\n",
    "# This function computes the chi-square statistic and p-value for the\n",
    "# hypothesis test of independence of the observed frequencies."
   ]
  },
  {
   "cell_type": "code",
   "execution_count": 84,
   "id": "09ad4a6c",
   "metadata": {},
   "outputs": [
    {
     "data": {
      "text/plain": [
       "(0.008763290531773594,\n",
       " 0.925417020494423,\n",
       " 1,\n",
       " array([[59.84016393, 97.15983607],\n",
       "        [33.15983607, 53.84016393]]))"
      ]
     },
     "execution_count": 84,
     "metadata": {},
     "output_type": "execute_result"
    }
   ],
   "source": [
    "vals = stats.chi2_contingency(df_freq_table)\n",
    "vals"
   ]
  },
  {
   "cell_type": "markdown",
   "id": "c941e07e",
   "metadata": {},
   "source": [
    " 0.925417020494423 - **P Value**\n",
    " \n",
    " This 2D array is our **Expected values:**\n",
    " \n",
    " array([[59.84016393, 97.15983607],\n",
    "        [33.15983607, 53.84016393]]))\n",
    "        \n",
    " This 2D array is our **Observed values:** \n",
    " \n",
    " [[60 97]\n",
    " [33 54]]\n",
    " \n",
    " These two expected and observed values have small difference. Based on this difference, we need to\n",
    " check both are associated or not."
   ]
  },
  {
   "cell_type": "code",
   "execution_count": 85,
   "id": "7bb75654",
   "metadata": {},
   "outputs": [],
   "source": [
    "# Step 5: Store the expected values"
   ]
  },
  {
   "cell_type": "code",
   "execution_count": 86,
   "id": "87b7287b",
   "metadata": {},
   "outputs": [
    {
     "data": {
      "text/plain": [
       "array([[59.84016393, 97.15983607],\n",
       "       [33.15983607, 53.84016393]])"
      ]
     },
     "execution_count": 86,
     "metadata": {},
     "output_type": "execute_result"
    }
   ],
   "source": [
    "values = stats.chi2_contingency(df_freq_table)\n",
    "expected_vals = values[3]\n",
    "expected_vals"
   ]
  },
  {
   "cell_type": "code",
   "execution_count": 87,
   "id": "4294e99a",
   "metadata": {},
   "outputs": [],
   "source": [
    "# Step 6: find no of rows and columns in our frequency table"
   ]
  },
  {
   "cell_type": "code",
   "execution_count": 88,
   "id": "e7b9c0db",
   "metadata": {},
   "outputs": [
    {
     "data": {
      "text/html": [
       "<div>\n",
       "<style scoped>\n",
       "    .dataframe tbody tr th:only-of-type {\n",
       "        vertical-align: middle;\n",
       "    }\n",
       "\n",
       "    .dataframe tbody tr th {\n",
       "        vertical-align: top;\n",
       "    }\n",
       "\n",
       "    .dataframe thead th {\n",
       "        text-align: right;\n",
       "    }\n",
       "</style>\n",
       "<table border=\"1\" class=\"dataframe\">\n",
       "  <thead>\n",
       "    <tr style=\"text-align: right;\">\n",
       "      <th>smoker</th>\n",
       "      <th>Yes</th>\n",
       "      <th>No</th>\n",
       "    </tr>\n",
       "    <tr>\n",
       "      <th>sex</th>\n",
       "      <th></th>\n",
       "      <th></th>\n",
       "    </tr>\n",
       "  </thead>\n",
       "  <tbody>\n",
       "    <tr>\n",
       "      <th>Male</th>\n",
       "      <td>60</td>\n",
       "      <td>97</td>\n",
       "    </tr>\n",
       "    <tr>\n",
       "      <th>Female</th>\n",
       "      <td>33</td>\n",
       "      <td>54</td>\n",
       "    </tr>\n",
       "  </tbody>\n",
       "</table>\n",
       "</div>"
      ],
      "text/plain": [
       "smoker  Yes  No\n",
       "sex            \n",
       "Male     60  97\n",
       "Female   33  54"
      ]
     },
     "execution_count": 88,
     "metadata": {},
     "output_type": "execute_result"
    }
   ],
   "source": [
    "df_freq_table"
   ]
  },
  {
   "cell_type": "code",
   "execution_count": 89,
   "id": "5d745212",
   "metadata": {},
   "outputs": [
    {
     "data": {
      "text/plain": [
       "(2, 2)"
      ]
     },
     "execution_count": 89,
     "metadata": {},
     "output_type": "execute_result"
    }
   ],
   "source": [
    "df_freq_table.shape"
   ]
  },
  {
   "cell_type": "code",
   "execution_count": 90,
   "id": "8341c77b",
   "metadata": {},
   "outputs": [
    {
     "name": "stdout",
     "output_type": "stream",
     "text": [
      "Rows: 2\n",
      "Columns: 2\n"
     ]
    }
   ],
   "source": [
    "no_of_rows = df_freq_table.shape[0]\n",
    "no_of_cols = df_freq_table.shape[1]\n",
    "print('Rows:', no_of_rows)\n",
    "print('Columns:', no_of_cols)"
   ]
  },
  {
   "cell_type": "code",
   "execution_count": 91,
   "id": "c1269575",
   "metadata": {},
   "outputs": [],
   "source": [
    "# Step 6: Compute Degree of Freeedom."
   ]
  },
  {
   "cell_type": "markdown",
   "id": "fae4ad8e",
   "metadata": {},
   "source": [
    "**Formula:**\n",
    "    \n",
    "dof=(rows-1)*(columns-1)"
   ]
  },
  {
   "cell_type": "code",
   "execution_count": 92,
   "id": "98f04aca",
   "metadata": {},
   "outputs": [
    {
     "name": "stdout",
     "output_type": "stream",
     "text": [
      "Degree of Freedom: 1\n"
     ]
    }
   ],
   "source": [
    "dof = (no_of_rows-1)*(no_of_cols-1)\n",
    "print('Degree of Freedom:', dof)"
   ]
  },
  {
   "cell_type": "code",
   "execution_count": 93,
   "id": "211ed902",
   "metadata": {},
   "outputs": [],
   "source": [
    "# Step 7: Set alpha to 0.05."
   ]
  },
  {
   "cell_type": "code",
   "execution_count": 94,
   "id": "8ced4bdf",
   "metadata": {},
   "outputs": [],
   "source": [
    "alpha = 0.05"
   ]
  },
  {
   "cell_type": "code",
   "execution_count": 95,
   "id": "f0999213",
   "metadata": {},
   "outputs": [],
   "source": [
    "# alpha values means how much variance we have to capture.\n",
    "# if alpha is 0.05, it means 95% of variance we should capture b/w two features.\n",
    "\n",
    "# 0.05 -> 5%\n",
    "# 0.95 -> 95%"
   ]
  },
  {
   "attachments": {
    "image-3.png": {
     "image/png": "[encoded data removed]"
    }
   },
   "cell_type": "markdown",
   "id": "21adef47",
   "metadata": {},
   "source": [
    "![image-3.png](attachment:image-3.png)"
   ]
  },
  {
   "cell_type": "markdown",
   "id": "e4f4e4dd",
   "metadata": {},
   "source": [
    " o - Observed Values\n",
    " \n",
    " e - Expected Values"
   ]
  },
  {
   "cell_type": "code",
   "execution_count": 96,
   "id": "c626e45b",
   "metadata": {},
   "outputs": [],
   "source": [
    "# Step 8: Compute the chi-square equation in python"
   ]
  },
  {
   "cell_type": "code",
   "execution_count": 97,
   "id": "2966aac3",
   "metadata": {},
   "outputs": [],
   "source": [
    "from scipy.stats import chi2"
   ]
  },
  {
   "cell_type": "code",
   "execution_count": 98,
   "id": "23110736",
   "metadata": {},
   "outputs": [
    {
     "name": "stdout",
     "output_type": "stream",
     "text": [
      "[(array([60, 97], dtype=int64), array([59.84016393, 97.15983607])), (array([33, 54], dtype=int64), array([33.15983607, 53.84016393]))]\n"
     ]
    }
   ],
   "source": [
    "vals = zip(observed_values, expected_vals)\n",
    "print(list(vals))"
   ]
  },
  {
   "cell_type": "code",
   "execution_count": 99,
   "id": "10a78f4f",
   "metadata": {},
   "outputs": [
    {
     "data": {
      "text/plain": [
       "array([[60, 97],\n",
       "       [33, 54]], dtype=int64)"
      ]
     },
     "execution_count": 99,
     "metadata": {},
     "output_type": "execute_result"
    }
   ],
   "source": [
    "observed_values"
   ]
  },
  {
   "cell_type": "code",
   "execution_count": 100,
   "id": "47fde15b",
   "metadata": {},
   "outputs": [
    {
     "data": {
      "text/plain": [
       "array([[59.84016393, 97.15983607],\n",
       "       [33.15983607, 53.84016393]])"
      ]
     },
     "execution_count": 100,
     "metadata": {},
     "output_type": "execute_result"
    }
   ],
   "source": [
    "expected_vals"
   ]
  },
  {
   "cell_type": "code",
   "execution_count": 101,
   "id": "250d6ea8",
   "metadata": {},
   "outputs": [
    {
     "data": {
      "text/plain": [
       "array([0.00119737, 0.00073745])"
      ]
     },
     "execution_count": 101,
     "metadata": {},
     "output_type": "execute_result"
    }
   ],
   "source": [
    "# Apply the formula\n",
    "chi_square = sum((o-e)**2/e for o, e in zip(observed_values, expected_vals))\n",
    "chi_square"
   ]
  },
  {
   "cell_type": "code",
   "execution_count": 102,
   "id": "930cb74f",
   "metadata": {},
   "outputs": [],
   "source": [
    "# Step 9: Compute Chi Square statistic "
   ]
  },
  {
   "cell_type": "code",
   "execution_count": 103,
   "id": "6ffef3e9",
   "metadata": {},
   "outputs": [
    {
     "name": "stdout",
     "output_type": "stream",
     "text": [
      "chi-square statistic: 0.001934818536627623\n"
     ]
    }
   ],
   "source": [
    "chi_square_statistic = sum(chi_square)\n",
    "print(\"chi-square statistic:\", chi_square_statistic)"
   ]
  },
  {
   "cell_type": "code",
   "execution_count": 104,
   "id": "967894db",
   "metadata": {},
   "outputs": [],
   "source": [
    "# Step 10: Find critical value"
   ]
  },
  {
   "cell_type": "code",
   "execution_count": 110,
   "id": "2697f72c",
   "metadata": {},
   "outputs": [
    {
     "data": {
      "text/plain": [
       "3.841458820694124"
      ]
     },
     "execution_count": 110,
     "metadata": {},
     "output_type": "execute_result"
    }
   ],
   "source": [
    "# Pass 1-alpha and degree of freedom as arguments to ppf()\n",
    "critical_value = chi2.ppf(q=1-alpha, df=dof)\n",
    "critical_value"
   ]
  },
  {
   "cell_type": "code",
   "execution_count": null,
   "id": "76b36cd7",
   "metadata": {},
   "outputs": [],
   "source": [
    "# Step 11: Find P Value"
   ]
  },
  {
   "cell_type": "code",
   "execution_count": 122,
   "id": "261df54c",
   "metadata": {},
   "outputs": [
    {
     "data": {
      "text/plain": [
       "0.964915107315732"
      ]
     },
     "execution_count": 122,
     "metadata": {},
     "output_type": "execute_result"
    }
   ],
   "source": [
    "# Pass chi_square_statistic and degree of freedom as arguments to cdf()\n",
    "# Subtract the result from 1 to get p value.\n",
    "\n",
    "p_value = 1-chi2.cdf(x=chi_square_statistic, df=dof)\n",
    "p_value"
   ]
  },
  {
   "cell_type": "code",
   "execution_count": 124,
   "id": "864a2d02",
   "metadata": {},
   "outputs": [],
   "source": [
    "# Step 12: Print all important statistics"
   ]
  },
  {
   "cell_type": "code",
   "execution_count": 128,
   "id": "e647a1cc",
   "metadata": {},
   "outputs": [
    {
     "name": "stdout",
     "output_type": "stream",
     "text": [
      "P Value: 0.964915107315732\n",
      "Significance Level(Alpha): 0.05\n",
      "Degree of Freedom: 1\n",
      "Chi Square Statistic: 0.001934818536627623\n",
      "Critical Value: 3.841458820694124\n"
     ]
    }
   ],
   "source": [
    "print(f'P Value: {p_value}')\n",
    "print(f'Significance Level(Alpha): {alpha}')\n",
    "print(f'Degree of Freedom: {dof}')\n",
    "print(f'Chi Square Statistic: {chi_square_statistic}')\n",
    "print(f'Critical Value: {critical_value}')"
   ]
  },
  {
   "cell_type": "code",
   "execution_count": 125,
   "id": "37f98d11",
   "metadata": {},
   "outputs": [],
   "source": [
    "# Step 13: Check Whether any relationship exist b/w Smoker and Sex features"
   ]
  },
  {
   "cell_type": "markdown",
   "id": "9d207d3b",
   "metadata": {},
   "source": [
    "- Null hypothesis (H0) - No relation b/w 2 categorical features.\n",
    "- Alternate Hypothesis (H1) - Relation exist b/w 2 categorical features."
   ]
  },
  {
   "cell_type": "code",
   "execution_count": 129,
   "id": "fe3ce597",
   "metadata": {},
   "outputs": [
    {
     "name": "stdout",
     "output_type": "stream",
     "text": [
      "Accept H0, There is no relatioship b/w Smoker and Sex feature\n",
      "Accept H0, There is no relatioship b/w Smoker and Sex feature\n"
     ]
    }
   ],
   "source": [
    "if chi_square_statistic >= critical_value:\n",
    "    print('Reject H0, There is a relationship b/w Smoker and Sex feature')\n",
    "else:\n",
    "    print('Accept H0, There is no relatioship b/w Smoker and Sex feature')\n",
    "\n",
    "if p_value <= alpha:\n",
    "    print('Reject H0, There is a relationship b/w Smoker and Sex feature')\n",
    "else:\n",
    "    print('Accept H0, There is no relatioship b/w Smoker and Sex feature')"
   ]
  },
  {
   "cell_type": "markdown",
   "id": "89e38b48",
   "metadata": {},
   "source": [
    "**Conclusion:**\n",
    "\n",
    "We can infer that both feature **smoker** & **sex** are not associated/related with each other.\n",
    "\n",
    "We can also say, this 2 features are **independent** since no relationship there.\n",
    "\n",
    "Chi-Square also helps in feature selection."
   ]
  },
  {
   "cell_type": "code",
   "execution_count": null,
   "id": "9d77bb6d",
   "metadata": {},
   "outputs": [],
   "source": []
  }
 ],
 "metadata": {
  "kernelspec": {
   "display_name": "Python 3",
   "language": "python",
   "name": "python3"
  },
  "language_info": {
   "codemirror_mode": {
    "name": "ipython",
    "version": 3
   },
   "file_extension": ".py",
   "mimetype": "text/x-python",
   "name": "python",
   "nbconvert_exporter": "python",
   "pygments_lexer": "ipython3",
   "version": "3.8.8"
  }
 },
 "nbformat": 4,
 "nbformat_minor": 5
}
