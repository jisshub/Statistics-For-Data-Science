{
 "cells": [
  {
   "cell_type": "markdown",
   "id": "588b5e56",
   "metadata": {},
   "source": [
    "https://www.datacamp.com/community/tutorials/statistics-python-tutorial-probability-1"
   ]
  },
  {
   "cell_type": "markdown",
   "id": "238096f5",
   "metadata": {},
   "source": [
    "There are 52 cards In a standard deck of cards and of those 52 cards, 4 are Aces.\n",
    "determine the probability of drawing an Ace with the help of Python"
   ]
  },
  {
   "cell_type": "markdown",
   "id": "598a2115",
   "metadata": {},
   "source": [
    "We know P(A) = 4/52"
   ]
  },
  {
   "cell_type": "code",
   "execution_count": 5,
   "id": "b6d8f509",
   "metadata": {},
   "outputs": [
    {
     "name": "stdout",
     "output_type": "stream",
     "text": [
      "0.08\n"
     ]
    }
   ],
   "source": [
    "deck_of_cards = 52\n",
    "aces = 4\n",
    "def find_aces_prob(deck_of_cards, aces):\n",
    "    prob_of_Aces = round(aces / deck_of_cards, 2)\n",
    "    return prob_of_Aces \n",
    "print(find_aces_prob(deck_of_cards,aces))"
   ]
  },
  {
   "cell_type": "markdown",
   "id": "18eacd6b",
   "metadata": {},
   "source": [
    "The probability of drawing an Ace from a standard deck is 0.08. To determine probability in percentage form, simply multiply by 100."
   ]
  },
  {
   "cell_type": "code",
   "execution_count": 8,
   "id": "35a5b2de",
   "metadata": {},
   "outputs": [
    {
     "name": "stdout",
     "output_type": "stream",
     "text": [
      "8.0%\n"
     ]
    }
   ],
   "source": [
    "deck_of_cards = 52\n",
    "aces = 4\n",
    "def find_aces_prob(deck_of_cards, aces):\n",
    "    prob_of_Aces = round(aces / deck_of_cards, 2)\n",
    "    return f'{prob_of_Aces * 100}%'\n",
    "print(find_aces_prob(deck_of_cards,aces))"
   ]
  },
  {
   "cell_type": "markdown",
   "id": "08916d3d",
   "metadata": {},
   "source": [
    "The probability of drawing an Ace as a percent is 8%."
   ]
  },
  {
   "cell_type": "markdown",
   "id": "a064c1eb",
   "metadata": {},
   "source": [
    "Now that you have seen two examples where you calculated probabilities, it's easy to assume that you might build out your probability calculations to determine, for example, the probability of drawing a card that is a Heart, a face card (such as Jacks, Queens, or Kings), or a combination of both, such as a Queen of Hearts.\n",
    "\n",
    "In such cases, you might want to create a User-Defined Function (UDF) event_probability() to which you pass the event_outcomes and the sample_space to find the probability of an event in percentage form, since you'll be reusing a lot of the code:"
   ]
  },
  {
   "cell_type": "code",
   "execution_count": 21,
   "id": "040abb83",
   "metadata": {},
   "outputs": [],
   "source": [
    "def event_probability(event_outcomes, sample_space):\n",
    "    probability = event_outcomes/sample_space * 100\n",
    "    return f'{round(probability, 1)}%'"
   ]
  },
  {
   "cell_type": "code",
   "execution_count": 12,
   "id": "379cbf76",
   "metadata": {},
   "outputs": [],
   "source": [
    "# sample space\n",
    "total_cards = 52"
   ]
  },
  {
   "cell_type": "markdown",
   "id": "b5f61b61",
   "metadata": {},
   "source": [
    "1. Determine the probability of drawing a Heart ?"
   ]
  },
  {
   "cell_type": "code",
   "execution_count": 13,
   "id": "214cc9ae",
   "metadata": {},
   "outputs": [],
   "source": [
    "hearts = 13"
   ]
  },
  {
   "cell_type": "code",
   "execution_count": 22,
   "id": "2a6fea20",
   "metadata": {},
   "outputs": [
    {
     "name": "stdout",
     "output_type": "stream",
     "text": [
      "25.0%\n"
     ]
    }
   ],
   "source": [
    "print(event_probability(hearts, total_cards))"
   ]
  },
  {
   "cell_type": "markdown",
   "id": "86f1be35",
   "metadata": {},
   "source": [
    "2. Determine the probability of drawing a face card ?"
   ]
  },
  {
   "cell_type": "code",
   "execution_count": 23,
   "id": "228f89d7",
   "metadata": {},
   "outputs": [
    {
     "name": "stdout",
     "output_type": "stream",
     "text": [
      "23.1%\n"
     ]
    }
   ],
   "source": [
    "face_card = 12\n",
    "print(event_probability(face_card, total_cards))"
   ]
  },
  {
   "cell_type": "markdown",
   "id": "97855f6e",
   "metadata": {},
   "source": [
    "3. Determine the probability of drawing the queen of hearts ?"
   ]
  },
  {
   "cell_type": "code",
   "execution_count": 24,
   "id": "fe21ed59",
   "metadata": {},
   "outputs": [
    {
     "name": "stdout",
     "output_type": "stream",
     "text": [
      "1.9%\n"
     ]
    }
   ],
   "source": [
    "queen_of_hs = 1\n",
    "print(event_probability(queen_of_hs, total_cards))"
   ]
  },
  {
   "cell_type": "markdown",
   "id": "6e77a8c4",
   "metadata": {},
   "source": [
    "The chances of drawing a Queen of Hearts are much smaller than the chances of drawing a regular face card or a Heart."
   ]
  },
  {
   "cell_type": "markdown",
   "id": "22508d6a",
   "metadata": {},
   "source": [
    "## Permutation and Combination"
   ]
  },
  {
   "cell_type": "markdown",
   "id": "c8680f6c",
   "metadata": {},
   "source": [
    "### Permutation Examples"
   ]
  },
  {
   "cell_type": "markdown",
   "id": "79e8f25a",
   "metadata": {},
   "source": [
    "Find the permutation in which we can assign 4 computers to 7 employees ?"
   ]
  },
  {
   "cell_type": "markdown",
   "id": "c39f3909",
   "metadata": {},
   "source": [
    "Formula, n!/(n-m)!\n",
    "\n",
    "Where, ! - factorial\n",
    "\n",
    "      n - # of uniue objects\n",
    "      \n",
    "      m - # of unique orderings"
   ]
  },
  {
   "cell_type": "code",
   "execution_count": 57,
   "id": "964d24b9",
   "metadata": {},
   "outputs": [],
   "source": [
    "import math\n",
    "def get_no_of_ways(n, m):\n",
    "    permutation = math.factorial(n)/math.factorial(n-m)\n",
    "    return permutation"
   ]
  },
  {
   "cell_type": "code",
   "execution_count": 58,
   "id": "cdec6495",
   "metadata": {},
   "outputs": [
    {
     "name": "stdout",
     "output_type": "stream",
     "text": [
      "840.0\n"
     ]
    }
   ],
   "source": [
    "print(get_no_of_ways(7, 4))"
   ]
  },
  {
   "cell_type": "markdown",
   "id": "0be67b4e",
   "metadata": {},
   "source": [
    "Find the permutation in which we can assign 5 assignments to 7 students ?"
   ]
  },
  {
   "cell_type": "code",
   "execution_count": 29,
   "id": "eba225e1",
   "metadata": {},
   "outputs": [
    {
     "name": "stdout",
     "output_type": "stream",
     "text": [
      "120.0\n"
     ]
    }
   ],
   "source": [
    "print(get_no_of_ways(5,5))"
   ]
  },
  {
   "cell_type": "markdown",
   "id": "5c722067",
   "metadata": {},
   "source": [
    "### Combination Examples"
   ]
  },
  {
   "cell_type": "markdown",
   "id": "66a570ad",
   "metadata": {},
   "source": [
    "Formula, \n",
    "    nCk = n!/k!(n-k)!\n",
    "    \n",
    "    Where, \n",
    "        n - # of unique objects\n",
    "        \n",
    "        k! - # of ways to arrange k things in k spots\n",
    "        \n",
    "        \n",
    "        "
   ]
  },
  {
   "cell_type": "markdown",
   "id": "7e1c7346",
   "metadata": {},
   "source": [
    "Example - 1:\n",
    "\n",
    "Find the no of combinations to choose 3 people out of 6 people ?\n",
    "\n",
    " n = 6,\n",
    " k = 3"
   ]
  },
  {
   "cell_type": "code",
   "execution_count": 59,
   "id": "fef94222",
   "metadata": {},
   "outputs": [],
   "source": [
    "def find_combinations(n, k):\n",
    "    # first find the permutation.\n",
    "    permutation = math.factorial(n)/math.factorial(n-k)\n",
    "    # second find the combination by putting permutation on numerator.\n",
    "    combinations = permutation/math.factorial(k)\n",
    "    return f'{int(combinations)} Combinations'"
   ]
  },
  {
   "cell_type": "code",
   "execution_count": 60,
   "id": "9d3abac1",
   "metadata": {},
   "outputs": [
    {
     "name": "stdout",
     "output_type": "stream",
     "text": [
      "20 Combinations\n"
     ]
    }
   ],
   "source": [
    "print(find_combinations(6, 3))"
   ]
  },
  {
   "cell_type": "markdown",
   "id": "c381aea5",
   "metadata": {},
   "source": [
    "Example - 2:\n",
    "\n",
    "Suppose there r 5 jobs available, HR want to hire candidates out of 20 people. How many ways\n",
    "hr can choose 5 out of 20 candidates."
   ]
  },
  {
   "cell_type": "code",
   "execution_count": 62,
   "id": "1eabeb27",
   "metadata": {},
   "outputs": [
    {
     "name": "stdout",
     "output_type": "stream",
     "text": [
      "15504 Combinations\n"
     ]
    }
   ],
   "source": [
    "# n = 20, k = 5\n",
    "print(find_combinations(20, 5))"
   ]
  },
  {
   "cell_type": "markdown",
   "id": "6373627b",
   "metadata": {},
   "source": [
    "## Mutual Exclusive Events"
   ]
  },
  {
   "cell_type": "markdown",
   "id": "c1ffae8c",
   "metadata": {},
   "source": [
    "Additive Rule Formula,\n",
    "\n",
    "**P(A or B) = P(A) + P(B)**"
   ]
  },
  {
   "cell_type": "markdown",
   "id": "6b87b500",
   "metadata": {},
   "source": [
    "Determine the probability of the following mutually exclusive events;\n",
    "\n",
    "1. Drawing a heart or drawing a club;\n",
    "2. Drawing an ace, a king or a queen."
   ]
  },
  {
   "cell_type": "code",
   "execution_count": 10,
   "id": "8ee8cf1a",
   "metadata": {},
   "outputs": [],
   "source": [
    "def mutual_xclusive(prob_1, prob_2):\n",
    "    probability  = prob_1 + prob_2\n",
    "    return f'Probability is {round(probability*100, 1)}%'"
   ]
  },
  {
   "cell_type": "code",
   "execution_count": 11,
   "id": "9242b395",
   "metadata": {},
   "outputs": [
    {
     "name": "stdout",
     "output_type": "stream",
     "text": [
      "Probability is 50.0%\n"
     ]
    }
   ],
   "source": [
    "deck_of_cards = 52\n",
    "prob_of_heart = 13/deck_of_cards\n",
    "prob_of_club = 13/deck_of_cards\n",
    "print(mutual_xclusive(prob_of_heart, prob_of_club))"
   ]
  },
  {
   "cell_type": "code",
   "execution_count": 12,
   "id": "dd92085e",
   "metadata": {},
   "outputs": [
    {
     "name": "stdout",
     "output_type": "stream",
     "text": [
      "Probability is 15.4%\n"
     ]
    }
   ],
   "source": [
    "prob_of_ace=4/52\n",
    "prob_of_king=4/52\n",
    "print(mutual_xclusive(prob_of_ace, prob_of_king))"
   ]
  },
  {
   "cell_type": "markdown",
   "id": "7b07d013",
   "metadata": {},
   "source": [
    "## Non Mutual Exclusive Event"
   ]
  },
  {
   "cell_type": "markdown",
   "id": "15adfe76",
   "metadata": {},
   "source": [
    "Additive Rule Formula,\n",
    "\n",
    "**P(A or B) = P(A) + P(B) - P(A and B)**"
   ]
  },
  {
   "cell_type": "markdown",
   "id": "bbd5e88e",
   "metadata": {},
   "source": [
    "Find the probability of getting a card of king or heart"
   ]
  },
  {
   "cell_type": "code",
   "execution_count": 16,
   "id": "c75dc59b",
   "metadata": {},
   "outputs": [],
   "source": [
    "def non_mutual_event(prob_1, prob_2, prob_3):\n",
    "    result = prob_1 + prob_2 - prob_3\n",
    "    return f'{round(result, 1)*100}%'"
   ]
  },
  {
   "cell_type": "code",
   "execution_count": 17,
   "id": "75730a66",
   "metadata": {},
   "outputs": [
    {
     "name": "stdout",
     "output_type": "stream",
     "text": [
      "30.0%\n"
     ]
    }
   ],
   "source": [
    "prob_of_king = 4/52\n",
    "prob_of_heart = 13/52\n",
    "prob_of_both = 1/52\n",
    "print(non_mutual_event(prob_of_king, prob_of_heart, prob_of_both))"
   ]
  },
  {
   "cell_type": "markdown",
   "id": "dbc3e7f7",
   "metadata": {},
   "source": [
    "Drawing a heart or an ace ?"
   ]
  },
  {
   "cell_type": "code",
   "execution_count": 18,
   "id": "42d08cce",
   "metadata": {},
   "outputs": [
    {
     "name": "stdout",
     "output_type": "stream",
     "text": [
      "30.0%\n"
     ]
    }
   ],
   "source": [
    "prob_of_ace = 4/52\n",
    "prob_of_heart = 13/52\n",
    "prob_of_both = 1/52\n",
    "print(non_mutual_event(prob_of_heart, prob_of_ace, prob_of_both))"
   ]
  },
  {
   "cell_type": "markdown",
   "id": "3494f122",
   "metadata": {},
   "source": [
    "Drawing a red card or drawing a face card ?"
   ]
  },
  {
   "cell_type": "code",
   "execution_count": 20,
   "id": "b02834d4",
   "metadata": {},
   "outputs": [
    {
     "name": "stdout",
     "output_type": "stream",
     "text": [
      "10.0%\n"
     ]
    }
   ],
   "source": [
    "prob_of_reds = 1/52\n",
    "prob_of_face_cards = 12/52\n",
    "prob_of_both=6/52\n",
    "print(non_mutual_event(prob_of_reds, prob_of_face_cards, prob_of_both))"
   ]
  },
  {
   "cell_type": "markdown",
   "id": "f7e95380",
   "metadata": {},
   "source": [
    "## Independent Event"
   ]
  },
  {
   "cell_type": "markdown",
   "id": "7ad263e4",
   "metadata": {},
   "source": [
    "Multiplicative Rule Formula,\n",
    "\n",
    "**P(A and B) = P(A) * P(B)**"
   ]
  },
  {
   "cell_type": "markdown",
   "id": "43be879b",
   "metadata": {},
   "source": [
    "Find the probability of getting 1 and 3 when rolling a dice ?"
   ]
  },
  {
   "cell_type": "markdown",
   "id": "fd62f766",
   "metadata": {},
   "source": [
    "Sample Size = {1,2,3,4,5,6}"
   ]
  },
  {
   "cell_type": "code",
   "execution_count": 21,
   "id": "951717c9",
   "metadata": {},
   "outputs": [],
   "source": [
    "def independent_event(prob_1, prob_2):\n",
    "    result = prob_1 * prob_2\n",
    "    return f'{round(result*100, 1)}%'"
   ]
  },
  {
   "cell_type": "code",
   "execution_count": 24,
   "id": "93dc2cbe",
   "metadata": {},
   "outputs": [
    {
     "name": "stdout",
     "output_type": "stream",
     "text": [
      "2.8%\n"
     ]
    }
   ],
   "source": [
    "prob_of_1 = 1/6 # no of possible outcomes/no of sample spaces\n",
    "prob_of_3 = 1/6\n",
    "print(independent_event(prob_of_1, prob_of_3))"
   ]
  },
  {
   "cell_type": "markdown",
   "id": "a4e96067",
   "metadata": {},
   "source": [
    "## Dependent Event"
   ]
  },
  {
   "cell_type": "markdown",
   "id": "16eae5f6",
   "metadata": {},
   "source": [
    "Multiplicative Rule Formula,\n",
    "\n",
    "**P(A and B) = P(A) * P(B/A)**"
   ]
  },
  {
   "cell_type": "markdown",
   "id": "c406d453",
   "metadata": {},
   "source": [
    "Find the probability of picking a King and Queen from a deck of 52 cards ?"
   ]
  },
  {
   "cell_type": "code",
   "execution_count": 39,
   "id": "613b684c",
   "metadata": {},
   "outputs": [],
   "source": [
    "kings = 4\n",
    "queens = 4\n",
    "cards = 52\n",
    "cards_new = cards - 1\n",
    "king_new = kings - 1\n",
    "def dependent_event():\n",
    "    prob_of_K = round(kings/cards*100, 1)\n",
    "    prob_of_Q_given_A = round(king_new/cards_new*100, 1)\n",
    "    return round(prob_of_K * prob_of_Q_given_A, 1)"
   ]
  },
  {
   "cell_type": "code",
   "execution_count": 40,
   "id": "5250bdd5",
   "metadata": {},
   "outputs": [
    {
     "name": "stdout",
     "output_type": "stream",
     "text": [
      "45.4\n"
     ]
    }
   ],
   "source": [
    "print(dependent_event())"
   ]
  },
  {
   "cell_type": "code",
   "execution_count": null,
   "id": "ccf04738",
   "metadata": {},
   "outputs": [],
   "source": []
  }
 ],
 "metadata": {
  "kernelspec": {
   "display_name": "Python 3",
   "language": "python",
   "name": "python3"
  },
  "language_info": {
   "codemirror_mode": {
    "name": "ipython",
    "version": 3
   },
   "file_extension": ".py",
   "mimetype": "text/x-python",
   "name": "python",
   "nbconvert_exporter": "python",
   "pygments_lexer": "ipython3",
   "version": "3.8.8"
  }
 },
 "nbformat": 4,
 "nbformat_minor": 5
}
